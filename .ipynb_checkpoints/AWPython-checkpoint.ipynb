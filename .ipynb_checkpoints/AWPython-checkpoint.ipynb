{
 "cells": [
  {
   "cell_type": "markdown",
   "id": "ba9082f7",
   "metadata": {},
   "source": [
    "EXERCISE 2.4 – THE NEXT PRESIDENT (14 MARKS)\n",
    "The purpose of this exercise is to write some code in Python to store the name of a person, their age, their address and their occupation in a tuple. E.g.\n",
    "Name: Donald Trump\n",
    "Age: 70\n",
    "Address: The White House, Pensylvania Avenue, Washington D.C., U.S.A.\n",
    "Occupation: President of the good ol' U.S.A.\n"
   ]
  },
  {
   "cell_type": "markdown",
   "id": "87c9670a",
   "metadata": {},
   "source": [
    "**Q16**\n",
    "\n",
    "Enter the code you would type that stores the above information as strings or numbers (in the same order exactly as above) in a single tuple called president using a single line of code.\n",
    "[4 marks; note – do not include the “Name:” and “Age:” etc. parts.]"
   ]
  },
  {
   "cell_type": "code",
   "execution_count": 1,
   "id": "9f0d367a",
   "metadata": {
    "ExecuteTime": {
     "end_time": "2022-11-04T21:38:48.822426Z",
     "start_time": "2022-11-04T21:38:48.813431Z"
    }
   },
   "outputs": [],
   "source": [
    "president = (\"Donald Trump\", 70, \"The White House, Pensylvania Avenue, Washington D.C., U.S.A.\", \"President of the good ol' U.S.A.\")"
   ]
  },
  {
   "cell_type": "markdown",
   "id": "8b8358a2",
   "metadata": {},
   "source": [
    "**Q17** \n",
    "\n",
    "Enter the code for unpacking the information you have stored in the tuple you devised for Q16 into separate variables called name, age, address and occupation. [4 marks]"
   ]
  },
  {
   "cell_type": "code",
   "execution_count": 2,
   "id": "b6ac782c",
   "metadata": {
    "ExecuteTime": {
     "end_time": "2022-11-04T21:39:26.886203Z",
     "start_time": "2022-11-04T21:39:26.879198Z"
    }
   },
   "outputs": [],
   "source": [
    "name, age, address, occupation = president"
   ]
  },
  {
   "cell_type": "markdown",
   "id": "4fd50760",
   "metadata": {},
   "source": [
    "**Q18**\n",
    "\n",
    "Enter the code for repacking the information into a new variable called president_in_2021 but also make sure you add 4 to the age variable as you repack the information. [4 marks]\n"
   ]
  },
  {
   "cell_type": "code",
   "execution_count": 7,
   "id": "90596a88",
   "metadata": {
    "ExecuteTime": {
     "end_time": "2022-11-04T21:44:04.512599Z",
     "start_time": "2022-11-04T21:44:04.494536Z"
    }
   },
   "outputs": [],
   "source": [
    "president_in_2021 = name, age + 4, address, occupation"
   ]
  },
  {
   "cell_type": "markdown",
   "id": "ee664be7",
   "metadata": {},
   "source": [
    "**Q19** \n",
    "\n",
    "Enter the value of the variable president_in_2021. [2 marks]"
   ]
  },
  {
   "cell_type": "code",
   "execution_count": 8,
   "id": "2d7ae2b0",
   "metadata": {
    "ExecuteTime": {
     "end_time": "2022-11-04T21:44:07.893247Z",
     "start_time": "2022-11-04T21:44:07.881155Z"
    }
   },
   "outputs": [
    {
     "name": "stdout",
     "output_type": "stream",
     "text": [
      "('Donald Trump', 74, 'The White House, Pensylvania Avenue, Washington D.C., U.S.A.', \"President of the good ol' U.S.A.\")\n"
     ]
    }
   ],
   "source": [
    "print(president_in_2021)"
   ]
  },
  {
   "cell_type": "markdown",
   "id": "d6d135e0",
   "metadata": {},
   "source": [
    "THE SET DATA STRUCTURE (11 MARKS)\n",
    "We will now do some exercises to learn more about the set and dictionary data structures. We can use these data structures to store information in order to represent knowledge (when building a knowledge based system or an intelligent system).\n",
    "The first ‘set’ of exercises here concerns the ‘set’ data structure.\n",
    "[2 marks for each of the following questions]\n"
   ]
  },
  {
   "cell_type": "markdown",
   "id": "a09af62b",
   "metadata": {},
   "source": [
    "**Q20** \n",
    "\n",
    "Enter code that will assign to the variable a the set of letters in the following string: \n",
    " \n",
    "'Now is the time for all good men to come to the aid of their party.'"
   ]
  },
  {
   "cell_type": "code",
   "execution_count": 7,
   "id": "80366fd4",
   "metadata": {
    "ExecuteTime": {
     "end_time": "2022-11-04T22:10:38.733521Z",
     "start_time": "2022-11-04T22:10:38.720527Z"
    }
   },
   "outputs": [],
   "source": [
    "a = set(\"Now is the time for all good men to come to the aid of their party.\")"
   ]
  },
  {
   "cell_type": "markdown",
   "id": "cbb0b77a",
   "metadata": {},
   "source": [
    "**Q21** \n",
    "\n",
    "Enter code that will assign to the variable b the set of letters in the following string: \n",
    " \n",
    "'We hold these truths to be self-evident, that all men are created equal, that they are endowed by their Creator with certain unalienable Rights, that among these are Life, Liberty and the pursuit of Happiness.'\n",
    "[1 mark for each of the following questions]"
   ]
  },
  {
   "cell_type": "code",
   "execution_count": 8,
   "id": "0721649a",
   "metadata": {
    "ExecuteTime": {
     "end_time": "2022-11-04T22:10:54.739410Z",
     "start_time": "2022-11-04T22:10:54.726340Z"
    }
   },
   "outputs": [],
   "source": [
    "b = set(\"We hold these truths to be self-evident, that all men are created equal, that they are endowed by their Creator with certain unalienable Rights, that among these are Life, Liberty and the pursuit of Happiness.\")"
   ]
  },
  {
   "cell_type": "markdown",
   "id": "7b9179bd",
   "metadata": {},
   "source": [
    "**Q22** \n",
    "\n",
    "Enter Python output that lists the letters in set b but not in set a."
   ]
  },
  {
   "cell_type": "code",
   "execution_count": 9,
   "id": "b8f17a47",
   "metadata": {
    "ExecuteTime": {
     "end_time": "2022-11-04T22:10:59.527614Z",
     "start_time": "2022-11-04T22:10:59.515578Z"
    }
   },
   "outputs": [
    {
     "name": "stdout",
     "output_type": "stream",
     "text": [
      "{'C', 'v', 'R', 'L', 'q', 'b', ',', 'u', 'W', 'H', '-'}\n"
     ]
    }
   ],
   "source": [
    "print(b - a)"
   ]
  },
  {
   "cell_type": "markdown",
   "id": "be78732d",
   "metadata": {},
   "source": [
    "**Q23** \n",
    "\n",
    "Enter Python output that lists the unique letters in set b."
   ]
  },
  {
   "cell_type": "code",
   "execution_count": 19,
   "id": "c9716e37",
   "metadata": {
    "ExecuteTime": {
     "end_time": "2022-11-04T23:02:24.479801Z",
     "start_time": "2022-11-04T23:02:24.447722Z"
    }
   },
   "outputs": [
    {
     "data": {
      "text/plain": [
       "{' ',\n",
       " ',',\n",
       " '-',\n",
       " '.',\n",
       " 'C',\n",
       " 'H',\n",
       " 'L',\n",
       " 'R',\n",
       " 'W',\n",
       " 'a',\n",
       " 'b',\n",
       " 'c',\n",
       " 'd',\n",
       " 'e',\n",
       " 'f',\n",
       " 'g',\n",
       " 'h',\n",
       " 'i',\n",
       " 'l',\n",
       " 'm',\n",
       " 'n',\n",
       " 'o',\n",
       " 'p',\n",
       " 'q',\n",
       " 'r',\n",
       " 's',\n",
       " 't',\n",
       " 'u',\n",
       " 'v',\n",
       " 'w',\n",
       " 'y'}"
      ]
     },
     "execution_count": 19,
     "metadata": {},
     "output_type": "execute_result"
    }
   ],
   "source": [
    "set(b)"
   ]
  },
  {
   "cell_type": "markdown",
   "id": "83e7bb73",
   "metadata": {},
   "source": [
    "**Q24** \n",
    "\n",
    "Enter Python output that lists the letters in either set a or set b but not both."
   ]
  },
  {
   "cell_type": "code",
   "execution_count": 15,
   "id": "48b3d250",
   "metadata": {
    "ExecuteTime": {
     "end_time": "2022-11-04T22:43:58.101856Z",
     "start_time": "2022-11-04T22:43:58.081795Z"
    }
   },
   "outputs": [
    {
     "data": {
      "text/plain": [
       "{',', '-', 'C', 'H', 'L', 'N', 'R', 'W', 'b', 'q', 'u', 'v'}"
      ]
     },
     "execution_count": 15,
     "metadata": {},
     "output_type": "execute_result"
    }
   ],
   "source": [
    "a ^ b"
   ]
  },
  {
   "cell_type": "markdown",
   "id": "2a9b06c0",
   "metadata": {},
   "source": [
    "**Q25** \n",
    "\n",
    "Enter Python output that lists the letters in either set a or set b."
   ]
  },
  {
   "cell_type": "code",
   "execution_count": 13,
   "id": "c5ab1a1e",
   "metadata": {
    "ExecuteTime": {
     "end_time": "2022-11-04T22:34:35.030755Z",
     "start_time": "2022-11-04T22:34:35.009751Z"
    }
   },
   "outputs": [
    {
     "data": {
      "text/plain": [
       "{' ',\n",
       " ',',\n",
       " '-',\n",
       " '.',\n",
       " 'C',\n",
       " 'H',\n",
       " 'L',\n",
       " 'N',\n",
       " 'R',\n",
       " 'W',\n",
       " 'a',\n",
       " 'b',\n",
       " 'c',\n",
       " 'd',\n",
       " 'e',\n",
       " 'f',\n",
       " 'g',\n",
       " 'h',\n",
       " 'i',\n",
       " 'l',\n",
       " 'm',\n",
       " 'n',\n",
       " 'o',\n",
       " 'p',\n",
       " 'q',\n",
       " 'r',\n",
       " 's',\n",
       " 't',\n",
       " 'u',\n",
       " 'v',\n",
       " 'w',\n",
       " 'y'}"
      ]
     },
     "execution_count": 13,
     "metadata": {},
     "output_type": "execute_result"
    }
   ],
   "source": [
    "a | b"
   ]
  },
  {
   "cell_type": "markdown",
   "id": "c48c4b68",
   "metadata": {},
   "source": [
    "**Q26** \n",
    "\n",
    "Enter Python output that lists the unique letters in set a."
   ]
  },
  {
   "cell_type": "code",
   "execution_count": 14,
   "id": "1b008dcb",
   "metadata": {
    "ExecuteTime": {
     "end_time": "2022-11-04T22:42:57.873407Z",
     "start_time": "2022-11-04T22:42:57.864259Z"
    }
   },
   "outputs": [
    {
     "data": {
      "text/plain": [
       "{' ',\n",
       " '.',\n",
       " 'N',\n",
       " 'a',\n",
       " 'c',\n",
       " 'd',\n",
       " 'e',\n",
       " 'f',\n",
       " 'g',\n",
       " 'h',\n",
       " 'i',\n",
       " 'l',\n",
       " 'm',\n",
       " 'n',\n",
       " 'o',\n",
       " 'p',\n",
       " 'r',\n",
       " 's',\n",
       " 't',\n",
       " 'w',\n",
       " 'y'}"
      ]
     },
     "execution_count": 14,
     "metadata": {},
     "output_type": "execute_result"
    }
   ],
   "source": [
    "set(a)"
   ]
  },
  {
   "cell_type": "markdown",
   "id": "6ed286ea",
   "metadata": {},
   "source": [
    "**Q27** \n",
    "\n",
    "Enter Python output that lists the letters in set a but not in set b.\n"
   ]
  },
  {
   "cell_type": "code",
   "execution_count": 16,
   "id": "5cd05d54",
   "metadata": {
    "ExecuteTime": {
     "end_time": "2022-11-04T22:44:49.546007Z",
     "start_time": "2022-11-04T22:44:49.496973Z"
    }
   },
   "outputs": [
    {
     "data": {
      "text/plain": [
       "{'N'}"
      ]
     },
     "execution_count": 16,
     "metadata": {},
     "output_type": "execute_result"
    }
   ],
   "source": [
    "a - b"
   ]
  },
  {
   "cell_type": "markdown",
   "id": "df8e0d8d",
   "metadata": {},
   "source": [
    "**Q28** \n",
    "\n",
    "Enter Python output that lists the letters in both set a and set b."
   ]
  },
  {
   "cell_type": "code",
   "execution_count": 18,
   "id": "cffcdc03",
   "metadata": {
    "ExecuteTime": {
     "end_time": "2022-11-04T22:48:28.446783Z",
     "start_time": "2022-11-04T22:48:28.411371Z"
    }
   },
   "outputs": [
    {
     "data": {
      "text/plain": [
       "{' ',\n",
       " '.',\n",
       " 'a',\n",
       " 'c',\n",
       " 'd',\n",
       " 'e',\n",
       " 'f',\n",
       " 'g',\n",
       " 'h',\n",
       " 'i',\n",
       " 'l',\n",
       " 'm',\n",
       " 'n',\n",
       " 'o',\n",
       " 'p',\n",
       " 'r',\n",
       " 's',\n",
       " 't',\n",
       " 'w',\n",
       " 'y'}"
      ]
     },
     "execution_count": 18,
     "metadata": {},
     "output_type": "execute_result"
    }
   ],
   "source": [
    "a & b"
   ]
  },
  {
   "cell_type": "markdown",
   "id": "4cd75349",
   "metadata": {},
   "source": [
    "EXERCISE 2.6 – AMERICAN PRESIDENTS – PAST AND PRESENT – AND THE DICTIONARY DATA STRUCTURE (24 MARKS)\n",
    "In this exercise, we will create dictionaries to store facts about the following American Presidents (e.g. their name and when they started in office):\n",
    "Donald Trump             2017\n",
    "Barack Obama            2009\n",
    "George W. Bush         2001\n",
    "Bill Clinton                   1993\n",
    "George Bush               1989\n",
    "First of all, we need to create variables for each of the five presidential dictionaries.\n",
    "[Make sure you create the variables in the order shown, and do not include spaces in your answer. Also use commas in your code instead of semi-colons.]\n",
    "\n",
    "\n",
    "\n",
    "Q31 Enter a single line of code that will set the correct years (as listed above) as values to the ‘Year’ key for each of the five dictionaries. [3 marks]\n",
    "[Make sure you set the variables in the order shown, and do not include spaces in your answer. You will need to use semi-colons again this-time.]\n",
    "\n",
    "Q32 Enter a single line of code that will iterate over the donald dictionary and print out the keys and values within it.[3 marks]\n",
    "\n",
    "Q33 Enter the output that is produced when you do the same for the george dictionary. [2 marks]\n",
    "\n",
    "Q34 Enter a single line of code that will create a tuple in a variable called presidents that will contain the five dictionaries (donald, barack, george_w, bill and george). [3 marks]\n",
    "\n",
    "Q35 Enter the output that is produced when you print out the value of the presidents variable. [2 marks]\n",
    "\n",
    "Q36 Enter a single line of code that will instead create an array in a variable called presidents1 that will contain the five dictionaries (donald, barack, george_w, bill and george) at index locations 0, 1, 2, 3 and 4 respectively. [3 marks]\n",
    "\n",
    "Q37 Enter the output that is produced when you print out the value of the presidents1 variable. [2 marks]\n",
    "\n",
    "Note: Make sure you keep the value of the variable presidents1 loaded in Python as you will need to have it for Exercise 2.7 below."
   ]
  },
  {
   "cell_type": "markdown",
   "id": "94478ad1",
   "metadata": {},
   "source": [
    "**Q29** \n",
    "\n",
    "Enter a single line of code that will assign an empty dictionary to each of the five variables – donald, barack, george_w, bill and george. [3 marks]\n"
   ]
  },
  {
   "cell_type": "code",
   "execution_count": null,
   "id": "14072101",
   "metadata": {},
   "outputs": [],
   "source": [
    "donald = {}\n",
    "barrack = {}\n",
    "george_w = {}\n",
    "bill = {}\n",
    "george = {}\n"
   ]
  },
  {
   "cell_type": "code",
   "execution_count": 24,
   "id": "0a65871c",
   "metadata": {
    "ExecuteTime": {
     "end_time": "2022-11-04T23:16:34.723087Z",
     "start_time": "2022-11-04T23:16:34.531620Z"
    }
   },
   "outputs": [
    {
     "ename": "SyntaxError",
     "evalue": "invalid syntax (1001058698.py, line 1)",
     "output_type": "error",
     "traceback": [
      "\u001b[1;36m  Input \u001b[1;32mIn [24]\u001b[1;36m\u001b[0m\n\u001b[1;33m    Donald Trump = 2017\u001b[0m\n\u001b[1;37m           ^\u001b[0m\n\u001b[1;31mSyntaxError\u001b[0m\u001b[1;31m:\u001b[0m invalid syntax\n"
     ]
    }
   ],
   "source": [
    "Donald Trump = 2017\n",
    "Barack Obama = 2009\n",
    "George W. Bush = 2001\n",
    "Bill Clinton = 1993\n",
    "George Bush = 1989"
   ]
  },
  {
   "cell_type": "code",
   "execution_count": null,
   "id": "cb859d78",
   "metadata": {},
   "outputs": [],
   "source": [
    "donald, barack, george_w, bill, george = "
   ]
  },
  {
   "cell_type": "markdown",
   "id": "c473d462",
   "metadata": {},
   "source": [
    "**Q29** \n",
    "\n",
    "Enter a single line of code that will assign an empty dictionary to each of the five variables – donald, barack, george_w, bill and george. [3 marks]\n",
    "\n",
    "[Make sure you create the variables in the order shown, and do not include spaces in your answer. Also use commas in your code instead of semi-colons.]"
   ]
  },
  {
   "cell_type": "code",
   "execution_count": 30,
   "id": "2ff988a3",
   "metadata": {
    "ExecuteTime": {
     "end_time": "2022-11-04T23:30:02.052893Z",
     "start_time": "2022-11-04T23:30:02.045525Z"
    }
   },
   "outputs": [],
   "source": [
    "donald,barack,george_w,bill,george={},{},{},{},{}"
   ]
  },
  {
   "cell_type": "markdown",
   "id": "cf4fcf07",
   "metadata": {},
   "source": [
    "**Q30** \n",
    "\n",
    "Enter a single line of code that will set the correct name strings (as listed above) as values to the ‘Name’ key for each of the five dictionaries. [3 marks]\n",
    "\n",
    "\n",
    "[Make sure you set the variables in the order shown, and do not include spaces in your answer. You will need to use semi-colons this-time.]\n"
   ]
  },
  {
   "cell_type": "code",
   "execution_count": 35,
   "id": "d5ac450a",
   "metadata": {
    "ExecuteTime": {
     "end_time": "2022-11-04T23:40:34.004102Z",
     "start_time": "2022-11-04T23:40:33.995981Z"
    }
   },
   "outputs": [],
   "source": [
    "donald[\"Name\"]=\"Donald Trump\";barack[\"Name\"]=\"Barack Obama\";george_w[\"Name\"]=\"George W. Bush\";bill[\"Name\"]=\"Bill Clinton\";george[\"Name\"]=\"George Bush\"\n"
   ]
  },
  {
   "cell_type": "markdown",
   "id": "7ae465f1",
   "metadata": {},
   "source": [
    "**Q31** \n",
    "\n",
    "Enter a single line of code that will set the correct years (as listed above) as values to the ‘Year’ key for each of the five dictionaries. [3 marks]"
   ]
  },
  {
   "cell_type": "code",
   "execution_count": 37,
   "id": "3ed725cf",
   "metadata": {
    "ExecuteTime": {
     "end_time": "2022-11-04T23:43:55.704071Z",
     "start_time": "2022-11-04T23:43:55.698068Z"
    }
   },
   "outputs": [],
   "source": [
    "donald[\"Year\"]=2017;barack[\"Year\"]=2009;george_w[\"Year\"]=2001;bill[\"Year\"]=1993;george[\"Year\"]=1989\n",
    "\n"
   ]
  },
  {
   "cell_type": "markdown",
   "id": "41e29d8b",
   "metadata": {},
   "source": [
    "**Q32** \n",
    "\n",
    "Enter a single line of code that will iterate over the donald dictionary and print out the keys and values within it.[3 marks]"
   ]
  },
  {
   "cell_type": "code",
   "execution_count": 41,
   "id": "7e153460",
   "metadata": {
    "ExecuteTime": {
     "end_time": "2022-11-04T23:49:54.017223Z",
     "start_time": "2022-11-04T23:49:53.944190Z"
    }
   },
   "outputs": [
    {
     "name": "stdout",
     "output_type": "stream",
     "text": [
      "Name Donald Trump\n",
      "Year 2017\n"
     ]
    }
   ],
   "source": [
    "for key, value in donald.items():\n",
    "    print(key, value)"
   ]
  },
  {
   "cell_type": "code",
   "execution_count": null,
   "id": "0959a87f",
   "metadata": {},
   "outputs": [],
   "source": []
  }
 ],
 "metadata": {
  "kernelspec": {
   "display_name": "Python 3 (ipykernel)",
   "language": "python",
   "name": "python3"
  },
  "language_info": {
   "codemirror_mode": {
    "name": "ipython",
    "version": 3
   },
   "file_extension": ".py",
   "mimetype": "text/x-python",
   "name": "python",
   "nbconvert_exporter": "python",
   "pygments_lexer": "ipython3",
   "version": "3.9.12"
  },
  "toc": {
   "base_numbering": 1,
   "nav_menu": {},
   "number_sections": true,
   "sideBar": true,
   "skip_h1_title": false,
   "title_cell": "Table of Contents",
   "title_sidebar": "Contents",
   "toc_cell": false,
   "toc_position": {},
   "toc_section_display": true,
   "toc_window_display": true
  },
  "varInspector": {
   "cols": {
    "lenName": 16,
    "lenType": 16,
    "lenVar": 40
   },
   "kernels_config": {
    "python": {
     "delete_cmd_postfix": "",
     "delete_cmd_prefix": "del ",
     "library": "var_list.py",
     "varRefreshCmd": "print(var_dic_list())"
    },
    "r": {
     "delete_cmd_postfix": ") ",
     "delete_cmd_prefix": "rm(",
     "library": "var_list.r",
     "varRefreshCmd": "cat(var_dic_list()) "
    }
   },
   "types_to_exclude": [
    "module",
    "function",
    "builtin_function_or_method",
    "instance",
    "_Feature"
   ],
   "window_display": false
  }
 },
 "nbformat": 4,
 "nbformat_minor": 5
}

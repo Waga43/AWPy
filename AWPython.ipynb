{
 "cells": [
  {
   "cell_type": "markdown",
   "id": "ba9082f7",
   "metadata": {},
   "source": [
    "EXERCISE 2.4 – THE NEXT PRESIDENT (14 MARKS)\n",
    "The purpose of this exercise is to write some code in Python to store the name of a person, their age, their address and their occupation in a tuple. E.g.\n",
    "Name: Donald Trump\n",
    "Age: 70\n",
    "Address: The White House, Pensylvania Avenue, Washington D.C., U.S.A.\n",
    "Occupation: President of the good ol' U.S.A.\n"
   ]
  },
  {
   "cell_type": "markdown",
   "id": "87c9670a",
   "metadata": {},
   "source": [
    "**Q16**\n",
    "\n",
    "Enter the code you would type that stores the above information as strings or numbers (in the same order exactly as above) in a single tuple called president using a single line of code.\n",
    "[4 marks; note – do not include the “Name:” and “Age:” etc. parts.]"
   ]
  },
  {
   "cell_type": "code",
   "execution_count": 1,
   "id": "9f0d367a",
   "metadata": {
    "ExecuteTime": {
     "end_time": "2022-11-04T21:38:48.822426Z",
     "start_time": "2022-11-04T21:38:48.813431Z"
    }
   },
   "outputs": [],
   "source": [
    "president = (\"Donald Trump\", 70, \"The White House, Pensylvania Avenue, Washington D.C., U.S.A.\", \"President of the good ol' U.S.A.\")"
   ]
  },
  {
   "cell_type": "markdown",
   "id": "8b8358a2",
   "metadata": {},
   "source": [
    "**Q17** \n",
    "\n",
    "Enter the code for unpacking the information you have stored in the tuple you devised for Q16 into separate variables called name, age, address and occupation. [4 marks]"
   ]
  },
  {
   "cell_type": "code",
   "execution_count": 2,
   "id": "b6ac782c",
   "metadata": {
    "ExecuteTime": {
     "end_time": "2022-11-04T21:39:26.886203Z",
     "start_time": "2022-11-04T21:39:26.879198Z"
    }
   },
   "outputs": [],
   "source": [
    "name, age, address, occupation = president"
   ]
  },
  {
   "cell_type": "markdown",
   "id": "4fd50760",
   "metadata": {},
   "source": [
    "**Q18**\n",
    "\n",
    "Enter the code for repacking the information into a new variable called president_in_2021 but also make sure you add 4 to the age variable as you repack the information. [4 marks]\n"
   ]
  },
  {
   "cell_type": "code",
   "execution_count": 7,
   "id": "90596a88",
   "metadata": {
    "ExecuteTime": {
     "end_time": "2022-11-04T21:44:04.512599Z",
     "start_time": "2022-11-04T21:44:04.494536Z"
    }
   },
   "outputs": [],
   "source": [
    "president_in_2021 = name, age + 4, address, occupation"
   ]
  },
  {
   "cell_type": "markdown",
   "id": "ee664be7",
   "metadata": {},
   "source": [
    "**Q19** \n",
    "\n",
    "Enter the value of the variable president_in_2021. [2 marks]"
   ]
  },
  {
   "cell_type": "code",
   "execution_count": 8,
   "id": "2d7ae2b0",
   "metadata": {
    "ExecuteTime": {
     "end_time": "2022-11-04T21:44:07.893247Z",
     "start_time": "2022-11-04T21:44:07.881155Z"
    }
   },
   "outputs": [
    {
     "name": "stdout",
     "output_type": "stream",
     "text": [
      "('Donald Trump', 74, 'The White House, Pensylvania Avenue, Washington D.C., U.S.A.', \"President of the good ol' U.S.A.\")\n"
     ]
    }
   ],
   "source": [
    "print(president_in_2021)"
   ]
  },
  {
   "cell_type": "code",
   "execution_count": null,
   "id": "12c7f175",
   "metadata": {},
   "outputs": [],
   "source": []
  }
 ],
 "metadata": {
  "kernelspec": {
   "display_name": "Python 3 (ipykernel)",
   "language": "python",
   "name": "python3"
  },
  "language_info": {
   "codemirror_mode": {
    "name": "ipython",
    "version": 3
   },
   "file_extension": ".py",
   "mimetype": "text/x-python",
   "name": "python",
   "nbconvert_exporter": "python",
   "pygments_lexer": "ipython3",
   "version": "3.9.12"
  },
  "toc": {
   "base_numbering": 1,
   "nav_menu": {},
   "number_sections": true,
   "sideBar": true,
   "skip_h1_title": false,
   "title_cell": "Table of Contents",
   "title_sidebar": "Contents",
   "toc_cell": false,
   "toc_position": {},
   "toc_section_display": true,
   "toc_window_display": true
  },
  "varInspector": {
   "cols": {
    "lenName": 16,
    "lenType": 16,
    "lenVar": 40
   },
   "kernels_config": {
    "python": {
     "delete_cmd_postfix": "",
     "delete_cmd_prefix": "del ",
     "library": "var_list.py",
     "varRefreshCmd": "print(var_dic_list())"
    },
    "r": {
     "delete_cmd_postfix": ") ",
     "delete_cmd_prefix": "rm(",
     "library": "var_list.r",
     "varRefreshCmd": "cat(var_dic_list()) "
    }
   },
   "types_to_exclude": [
    "module",
    "function",
    "builtin_function_or_method",
    "instance",
    "_Feature"
   ],
   "window_display": false
  }
 },
 "nbformat": 4,
 "nbformat_minor": 5
}

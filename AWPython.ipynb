{
 "cells": [
  {
   "cell_type": "markdown",
   "id": "ba9082f7",
   "metadata": {},
   "source": [
    "# EXERCISE 2.4 – THE NEXT PRESIDENT (14 MARKS)\n",
    "The purpose of this exercise is to write some code in Python to store the name of a person, their age, their address and their occupation in a tuple. E.g.\n",
    "Name: Donald Trump\n",
    "Age: 70\n",
    "Address: The White House, Pensylvania Avenue, Washington D.C., U.S.A.\n",
    "Occupation: President of the good ol' U.S.A.\n"
   ]
  },
  {
   "cell_type": "markdown",
   "id": "87c9670a",
   "metadata": {},
   "source": [
    "**Q16**\n",
    "\n",
    "Enter the code you would type that stores the above information as strings or numbers (in the same order exactly as above) in a single tuple called president using a single line of code.\n",
    "[4 marks; note – do not include the “Name:” and “Age:” etc. parts.]"
   ]
  },
  {
   "cell_type": "code",
   "execution_count": 1,
   "id": "9f0d367a",
   "metadata": {
    "ExecuteTime": {
     "end_time": "2022-11-04T21:38:48.822426Z",
     "start_time": "2022-11-04T21:38:48.813431Z"
    }
   },
   "outputs": [],
   "source": [
    "president = (\"Donald Trump\", 70, \"The White House, Pensylvania Avenue, Washington D.C., U.S.A.\", \"President of the good ol' U.S.A.\")"
   ]
  },
  {
   "cell_type": "markdown",
   "id": "8b8358a2",
   "metadata": {},
   "source": [
    "**Q17** \n",
    "\n",
    "Enter the code for unpacking the information you have stored in the tuple you devised for Q16 into separate variables called name, age, address and occupation. [4 marks]"
   ]
  },
  {
   "cell_type": "code",
   "execution_count": 2,
   "id": "b6ac782c",
   "metadata": {
    "ExecuteTime": {
     "end_time": "2022-11-04T21:39:26.886203Z",
     "start_time": "2022-11-04T21:39:26.879198Z"
    }
   },
   "outputs": [],
   "source": [
    "name, age, address, occupation = president"
   ]
  },
  {
   "cell_type": "markdown",
   "id": "4fd50760",
   "metadata": {},
   "source": [
    "**Q18**\n",
    "\n",
    "Enter the code for repacking the information into a new variable called president_in_2021 but also make sure you add 4 to the age variable as you repack the information. [4 marks]\n"
   ]
  },
  {
   "cell_type": "code",
   "execution_count": 7,
   "id": "90596a88",
   "metadata": {
    "ExecuteTime": {
     "end_time": "2022-11-04T21:44:04.512599Z",
     "start_time": "2022-11-04T21:44:04.494536Z"
    }
   },
   "outputs": [],
   "source": [
    "president_in_2021 = name, age + 4, address, occupation"
   ]
  },
  {
   "cell_type": "markdown",
   "id": "ee664be7",
   "metadata": {},
   "source": [
    "**Q19** \n",
    "\n",
    "Enter the value of the variable president_in_2021. [2 marks]"
   ]
  },
  {
   "cell_type": "code",
   "execution_count": 8,
   "id": "2d7ae2b0",
   "metadata": {
    "ExecuteTime": {
     "end_time": "2022-11-04T21:44:07.893247Z",
     "start_time": "2022-11-04T21:44:07.881155Z"
    }
   },
   "outputs": [
    {
     "name": "stdout",
     "output_type": "stream",
     "text": [
      "('Donald Trump', 74, 'The White House, Pensylvania Avenue, Washington D.C., U.S.A.', \"President of the good ol' U.S.A.\")\n"
     ]
    }
   ],
   "source": [
    "print(president_in_2021)"
   ]
  },
  {
   "cell_type": "markdown",
   "id": "67fee2fa",
   "metadata": {},
   "source": [
    "THE SET DATA STRUCTURE (11 MARKS)\n",
    "We will now do some exercises to learn more about the set and dictionary data structures. We can use these data structures to store information in order to represent knowledge (when building a knowledge based system or an intelligent system).\n",
    "The first ‘set’ of exercises here concerns the ‘set’ data structure.\n",
    "[2 marks for each of the following questions]\n"
   ]
  },
  {
   "cell_type": "markdown",
   "id": "21670d77",
   "metadata": {},
   "source": [
    "**Q20** \n",
    "\n",
    "Enter code that will assign to the variable a the set of letters in the following string: \n",
    " \n",
    "'Now is the time for all good men to come to the aid of their party.'"
   ]
  },
  {
   "cell_type": "code",
   "execution_count": 7,
   "id": "38241bc5",
   "metadata": {
    "ExecuteTime": {
     "end_time": "2022-11-04T22:10:38.733521Z",
     "start_time": "2022-11-04T22:10:38.720527Z"
    }
   },
   "outputs": [],
   "source": [
    "a = set(\"Now is the time for all good men to come to the aid of their party.\")"
   ]
  },
  {
   "cell_type": "markdown",
   "id": "a2d5a2c0",
   "metadata": {},
   "source": [
    "**Q21** \n",
    "\n",
    "Enter code that will assign to the variable b the set of letters in the following string: \n",
    " \n",
    "'We hold these truths to be self-evident, that all men are created equal, that they are endowed by their Creator with certain unalienable Rights, that among these are Life, Liberty and the pursuit of Happiness.'\n",
    "[1 mark for each of the following questions]"
   ]
  },
  {
   "cell_type": "code",
   "execution_count": 8,
   "id": "9a6db09a",
   "metadata": {
    "ExecuteTime": {
     "end_time": "2022-11-04T22:10:54.739410Z",
     "start_time": "2022-11-04T22:10:54.726340Z"
    }
   },
   "outputs": [],
   "source": [
    "b = set(\"We hold these truths to be self-evident, that all men are created equal, that they are endowed by their Creator with certain unalienable Rights, that among these are Life, Liberty and the pursuit of Happiness.\")"
   ]
  },
  {
   "cell_type": "markdown",
   "id": "ef6ddfbc",
   "metadata": {},
   "source": [
    "**Q22** \n",
    "\n",
    "Enter Python output that lists the letters in set b but not in set a."
   ]
  },
  {
   "cell_type": "code",
   "execution_count": 9,
   "id": "428544fd",
   "metadata": {
    "ExecuteTime": {
     "end_time": "2022-11-04T22:10:59.527614Z",
     "start_time": "2022-11-04T22:10:59.515578Z"
    }
   },
   "outputs": [
    {
     "name": "stdout",
     "output_type": "stream",
     "text": [
      "{'C', 'v', 'R', 'L', 'q', 'b', ',', 'u', 'W', 'H', '-'}\n"
     ]
    }
   ],
   "source": [
    "print(b - a)"
   ]
  },
  {
   "cell_type": "markdown",
   "id": "61c357a9",
   "metadata": {},
   "source": [
    "**Q23** \n",
    "\n",
    "Enter Python output that lists the unique letters in set b."
   ]
  },
  {
   "cell_type": "code",
   "execution_count": 19,
   "id": "ace28729",
   "metadata": {
    "ExecuteTime": {
     "end_time": "2022-11-04T23:02:24.479801Z",
     "start_time": "2022-11-04T23:02:24.447722Z"
    }
   },
   "outputs": [
    {
     "data": {
      "text/plain": [
       "{' ',\n",
       " ',',\n",
       " '-',\n",
       " '.',\n",
       " 'C',\n",
       " 'H',\n",
       " 'L',\n",
       " 'R',\n",
       " 'W',\n",
       " 'a',\n",
       " 'b',\n",
       " 'c',\n",
       " 'd',\n",
       " 'e',\n",
       " 'f',\n",
       " 'g',\n",
       " 'h',\n",
       " 'i',\n",
       " 'l',\n",
       " 'm',\n",
       " 'n',\n",
       " 'o',\n",
       " 'p',\n",
       " 'q',\n",
       " 'r',\n",
       " 's',\n",
       " 't',\n",
       " 'u',\n",
       " 'v',\n",
       " 'w',\n",
       " 'y'}"
      ]
     },
     "execution_count": 19,
     "metadata": {},
     "output_type": "execute_result"
    }
   ],
   "source": [
    "set(b)"
   ]
  },
  {
   "cell_type": "markdown",
   "id": "8fd1595f",
   "metadata": {},
   "source": [
    "**Q24** \n",
    "\n",
    "Enter Python output that lists the letters in either set a or set b but not both."
   ]
  },
  {
   "cell_type": "code",
   "execution_count": 15,
   "id": "dafc6859",
   "metadata": {
    "ExecuteTime": {
     "end_time": "2022-11-04T22:43:58.101856Z",
     "start_time": "2022-11-04T22:43:58.081795Z"
    }
   },
   "outputs": [
    {
     "data": {
      "text/plain": [
       "{',', '-', 'C', 'H', 'L', 'N', 'R', 'W', 'b', 'q', 'u', 'v'}"
      ]
     },
     "execution_count": 15,
     "metadata": {},
     "output_type": "execute_result"
    }
   ],
   "source": [
    "a ^ b"
   ]
  },
  {
   "cell_type": "markdown",
   "id": "41c12772",
   "metadata": {},
   "source": [
    "**Q25** \n",
    "\n",
    "Enter Python output that lists the letters in either set a or set b."
   ]
  },
  {
   "cell_type": "code",
   "execution_count": 13,
   "id": "72d02c9e",
   "metadata": {
    "ExecuteTime": {
     "end_time": "2022-11-04T22:34:35.030755Z",
     "start_time": "2022-11-04T22:34:35.009751Z"
    }
   },
   "outputs": [
    {
     "data": {
      "text/plain": [
       "{' ',\n",
       " ',',\n",
       " '-',\n",
       " '.',\n",
       " 'C',\n",
       " 'H',\n",
       " 'L',\n",
       " 'N',\n",
       " 'R',\n",
       " 'W',\n",
       " 'a',\n",
       " 'b',\n",
       " 'c',\n",
       " 'd',\n",
       " 'e',\n",
       " 'f',\n",
       " 'g',\n",
       " 'h',\n",
       " 'i',\n",
       " 'l',\n",
       " 'm',\n",
       " 'n',\n",
       " 'o',\n",
       " 'p',\n",
       " 'q',\n",
       " 'r',\n",
       " 's',\n",
       " 't',\n",
       " 'u',\n",
       " 'v',\n",
       " 'w',\n",
       " 'y'}"
      ]
     },
     "execution_count": 13,
     "metadata": {},
     "output_type": "execute_result"
    }
   ],
   "source": [
    "a | b"
   ]
  },
  {
   "cell_type": "markdown",
   "id": "6c9e64a8",
   "metadata": {},
   "source": [
    "**Q26** \n",
    "\n",
    "Enter Python output that lists the unique letters in set a."
   ]
  },
  {
   "cell_type": "code",
   "execution_count": 14,
   "id": "743cec4a",
   "metadata": {
    "ExecuteTime": {
     "end_time": "2022-11-04T22:42:57.873407Z",
     "start_time": "2022-11-04T22:42:57.864259Z"
    }
   },
   "outputs": [
    {
     "data": {
      "text/plain": [
       "{' ',\n",
       " '.',\n",
       " 'N',\n",
       " 'a',\n",
       " 'c',\n",
       " 'd',\n",
       " 'e',\n",
       " 'f',\n",
       " 'g',\n",
       " 'h',\n",
       " 'i',\n",
       " 'l',\n",
       " 'm',\n",
       " 'n',\n",
       " 'o',\n",
       " 'p',\n",
       " 'r',\n",
       " 's',\n",
       " 't',\n",
       " 'w',\n",
       " 'y'}"
      ]
     },
     "execution_count": 14,
     "metadata": {},
     "output_type": "execute_result"
    }
   ],
   "source": [
    "set(a)"
   ]
  },
  {
   "cell_type": "markdown",
   "id": "a87ed38b",
   "metadata": {},
   "source": [
    "**Q27** \n",
    "\n",
    "Enter Python output that lists the letters in set a but not in set b.\n"
   ]
  },
  {
   "cell_type": "code",
   "execution_count": 16,
   "id": "73ef19f7",
   "metadata": {
    "ExecuteTime": {
     "end_time": "2022-11-04T22:44:49.546007Z",
     "start_time": "2022-11-04T22:44:49.496973Z"
    }
   },
   "outputs": [
    {
     "data": {
      "text/plain": [
       "{'N'}"
      ]
     },
     "execution_count": 16,
     "metadata": {},
     "output_type": "execute_result"
    }
   ],
   "source": [
    "a - b"
   ]
  },
  {
   "cell_type": "markdown",
   "id": "c069d822",
   "metadata": {},
   "source": [
    "**Q28** \n",
    "\n",
    "Enter Python output that lists the letters in both set a and set b."
   ]
  },
  {
   "cell_type": "code",
   "execution_count": 18,
   "id": "77e57df8",
   "metadata": {
    "ExecuteTime": {
     "end_time": "2022-11-04T22:48:28.446783Z",
     "start_time": "2022-11-04T22:48:28.411371Z"
    }
   },
   "outputs": [
    {
     "data": {
      "text/plain": [
       "{' ',\n",
       " '.',\n",
       " 'a',\n",
       " 'c',\n",
       " 'd',\n",
       " 'e',\n",
       " 'f',\n",
       " 'g',\n",
       " 'h',\n",
       " 'i',\n",
       " 'l',\n",
       " 'm',\n",
       " 'n',\n",
       " 'o',\n",
       " 'p',\n",
       " 'r',\n",
       " 's',\n",
       " 't',\n",
       " 'w',\n",
       " 'y'}"
      ]
     },
     "execution_count": 18,
     "metadata": {},
     "output_type": "execute_result"
    }
   ],
   "source": [
    "a & b"
   ]
  },
  {
   "cell_type": "markdown",
   "id": "e909e504",
   "metadata": {},
   "source": [
    "# EXERCISE 2.6 – AMERICAN PRESIDENTS – PAST AND PRESENT – AND THE DICTIONARY DATA STRUCTURE (24 MARKS)\n",
    "In this exercise, we will create dictionaries to store facts about the following American Presidents (e.g. their name and when they started in office):\n",
    "Donald Trump             2017\n",
    "Barack Obama            2009\n",
    "George W. Bush         2001\n",
    "Bill Clinton                   1993\n",
    "George Bush               1989\n",
    "First of all, we need to create variables for each of the five presidential dictionaries.\n",
    "[Make sure you create the variables in the order shown, and do not include spaces in your answer. Also use commas in your code instead of semi-colons.]\n"
   ]
  },
  {
   "cell_type": "markdown",
   "id": "8b11f16f",
   "metadata": {},
   "source": [
    "**Q29** \n",
    "\n",
    "Enter a single line of code that will assign an empty dictionary to each of the five variables – donald, barack, george_w, bill and george. [3 marks]\n",
    "\n",
    "[Make sure you create the variables in the order shown, and do not include spaces in your answer. Also use commas in your code instead of semi-colons.]"
   ]
  },
  {
   "cell_type": "code",
   "execution_count": 30,
   "id": "81f0b35b",
   "metadata": {
    "ExecuteTime": {
     "end_time": "2022-11-04T23:30:02.052893Z",
     "start_time": "2022-11-04T23:30:02.045525Z"
    }
   },
   "outputs": [],
   "source": [
    "donald,barack,george_w,bill,george={},{},{},{},{}"
   ]
  },
  {
   "cell_type": "markdown",
   "id": "4148ca95",
   "metadata": {},
   "source": [
    "**Q30** \n",
    "\n",
    "Enter a single line of code that will set the correct name strings (as listed above) as values to the ‘Name’ key for each of the five dictionaries. [3 marks]\n",
    "\n",
    "\n",
    "[Make sure you set the variables in the order shown, and do not include spaces in your answer. You will need to use semi-colons this-time.]\n"
   ]
  },
  {
   "cell_type": "code",
   "execution_count": 35,
   "id": "78e34423",
   "metadata": {
    "ExecuteTime": {
     "end_time": "2022-11-04T23:40:34.004102Z",
     "start_time": "2022-11-04T23:40:33.995981Z"
    }
   },
   "outputs": [],
   "source": [
    "donald[\"Name\"]=\"Donald Trump\";barack[\"Name\"]=\"Barack Obama\";george_w[\"Name\"]=\"George W. Bush\";bill[\"Name\"]=\"Bill Clinton\";george[\"Name\"]=\"George Bush\"\n"
   ]
  },
  {
   "cell_type": "markdown",
   "id": "ac20de05",
   "metadata": {},
   "source": [
    "**Q31** \n",
    "\n",
    "Enter a single line of code that will set the correct years (as listed above) as values to the ‘Year’ key for each of the five dictionaries. [3 marks]"
   ]
  },
  {
   "cell_type": "code",
   "execution_count": 37,
   "id": "19aed9f8",
   "metadata": {
    "ExecuteTime": {
     "end_time": "2022-11-04T23:43:55.704071Z",
     "start_time": "2022-11-04T23:43:55.698068Z"
    }
   },
   "outputs": [],
   "source": [
    "donald[\"Year\"]=2017;barack[\"Year\"]=2009;george_w[\"Year\"]=2001;bill[\"Year\"]=1993;george[\"Year\"]=1989\n"
   ]
  },
  {
   "cell_type": "markdown",
   "id": "4f915202",
   "metadata": {},
   "source": [
    "**Q32** \n",
    "\n",
    "Enter a single line of code that will iterate over the donald dictionary and print out the keys and values within it.[3 marks]"
   ]
  },
  {
   "cell_type": "code",
   "execution_count": 50,
   "id": "b8ba132b",
   "metadata": {
    "ExecuteTime": {
     "end_time": "2022-11-06T04:55:04.641377Z",
     "start_time": "2022-11-06T04:55:04.635376Z"
    }
   },
   "outputs": [
    {
     "name": "stdout",
     "output_type": "stream",
     "text": [
      "Name Donald Trump\n",
      "Year 2017\n"
     ]
    }
   ],
   "source": [
    "for key, value in donald.items():print(key, value)\n",
    "    "
   ]
  },
  {
   "cell_type": "markdown",
   "id": "46ce17ae",
   "metadata": {},
   "source": [
    "**Q33** \n",
    "\n",
    "Enter the output that is produced when you do the same for the george dictionary. [2 marks]\n"
   ]
  },
  {
   "cell_type": "code",
   "execution_count": 49,
   "id": "875e7389",
   "metadata": {
    "ExecuteTime": {
     "end_time": "2022-11-06T04:54:55.441976Z",
     "start_time": "2022-11-06T04:54:55.435974Z"
    }
   },
   "outputs": [
    {
     "name": "stdout",
     "output_type": "stream",
     "text": [
      "Name George Bush\n",
      "Year 1989\n"
     ]
    }
   ],
   "source": [
    "for key, value in george.items():print(key, value)"
   ]
  },
  {
   "cell_type": "markdown",
   "id": "a7aa7aaf",
   "metadata": {},
   "source": [
    "**Q34** \n",
    "\n",
    "Enter a single line of code that will create a tuple in a variable called presidents that will contain the five dictionaries (donald, barack, george_w, bill and george). [3 marks]\n"
   ]
  },
  {
   "cell_type": "code",
   "execution_count": 66,
   "id": "01182800",
   "metadata": {
    "ExecuteTime": {
     "end_time": "2022-11-06T05:32:16.439360Z",
     "start_time": "2022-11-06T05:32:16.423382Z"
    }
   },
   "outputs": [],
   "source": [
    "presidents = (donald, barack, george_w, bill, george)"
   ]
  },
  {
   "cell_type": "markdown",
   "id": "95d2d1f0",
   "metadata": {},
   "source": [
    "**Q35** \n",
    "\n",
    "Enter the output that is produced when you print out the value of the presidents variable. [2 marks]"
   ]
  },
  {
   "cell_type": "code",
   "execution_count": 67,
   "id": "8b722466",
   "metadata": {
    "ExecuteTime": {
     "end_time": "2022-11-06T05:32:17.475144Z",
     "start_time": "2022-11-06T05:32:17.459145Z"
    }
   },
   "outputs": [
    {
     "data": {
      "text/plain": [
       "({'Name': 'Donald Trump', 'Year': 2017},\n",
       " {'Name': 'Barack Obama', 'Year': 2009},\n",
       " {'Name': 'George W. Bush', 'Year': 2001},\n",
       " {'Name': 'Bill Clinton', 'Year': 1993},\n",
       " {'Name': 'George Bush', 'Year': 1989})"
      ]
     },
     "execution_count": 67,
     "metadata": {},
     "output_type": "execute_result"
    }
   ],
   "source": [
    "presidents"
   ]
  },
  {
   "cell_type": "markdown",
   "id": "d77c93ee",
   "metadata": {},
   "source": [
    "**Q36** \n",
    "\n",
    "Enter a single line of code that will instead create an array in a variable called presidents1 that will contain the five dictionaries (donald, barack, george_w, bill and george) at index locations 0, 1, 2, 3 and 4 respectively. [3 marks]\n"
   ]
  },
  {
   "cell_type": "code",
   "execution_count": 68,
   "id": "77611b6d",
   "metadata": {
    "ExecuteTime": {
     "end_time": "2022-11-06T05:37:18.210730Z",
     "start_time": "2022-11-06T05:37:18.137730Z"
    }
   },
   "outputs": [],
   "source": [
    "presidents1 = [donald, barack, george_w, bill, george]"
   ]
  },
  {
   "cell_type": "markdown",
   "id": "006e75d5",
   "metadata": {},
   "source": [
    "**Q37** \n",
    "\n",
    "Enter the output that is produced when you print out the value of the presidents1 variable. [2 marks]\n",
    "\n",
    "Note: Make sure you keep the value of the variable presidents1 loaded in Python as you will need to have it for Exercise 2.7 below."
   ]
  },
  {
   "cell_type": "code",
   "execution_count": 69,
   "id": "1d97ca65",
   "metadata": {
    "ExecuteTime": {
     "end_time": "2022-11-06T05:37:23.618637Z",
     "start_time": "2022-11-06T05:37:23.609353Z"
    }
   },
   "outputs": [
    {
     "data": {
      "text/plain": [
       "[{'Name': 'Donald Trump', 'Year': 2017},\n",
       " {'Name': 'Barack Obama', 'Year': 2009},\n",
       " {'Name': 'George W. Bush', 'Year': 2001},\n",
       " {'Name': 'Bill Clinton', 'Year': 1993},\n",
       " {'Name': 'George Bush', 'Year': 1989}]"
      ]
     },
     "execution_count": 69,
     "metadata": {},
     "output_type": "execute_result"
    }
   ],
   "source": [
    "presidents1"
   ]
  },
  {
   "cell_type": "markdown",
   "id": "c5d819d6",
   "metadata": {},
   "source": [
    "# This exercise will explore using the del command to delete from a list. In the Python command line, first set the list a as follows:\n",
    "a=[2,4,6,8,10,12,14,16,18,20,22,24,26,28,30"
   ]
  },
  {
   "cell_type": "code",
   "execution_count": 175,
   "id": "9f6cfdb2",
   "metadata": {
    "ExecuteTime": {
     "end_time": "2022-11-06T15:42:07.113098Z",
     "start_time": "2022-11-06T15:42:07.101357Z"
    }
   },
   "outputs": [],
   "source": [
    "a=[2,4,6,8,10,12,14,16,18,20,22,24,26,28,30]"
   ]
  },
  {
   "cell_type": "markdown",
   "id": "dd473b17",
   "metadata": {},
   "source": [
    "Write the code that will delete the current items in this list that are at the prime index locations e.g. at index 2, index 3 and so on. Do this using a single line of code. (Hint: You can use the “;” character to separate multiple commands on the same line).\n",
    "Q14 Enter the code you would type that will delete the current items in list a that are at the prime index locations. [5 marks]\n",
    "Q15 Enter the output produced when you run the code you devised for Q14. [2 marks]"
   ]
  },
  {
   "cell_type": "markdown",
   "id": "93d84f51",
   "metadata": {},
   "source": [
    "# EXERCISE 2.7 – IN A PICKLE (15 MARKS)\n",
    "In this exercise, you will pickle and unpickle the data structure you created in exercise 2.6. \n"
   ]
  },
  {
   "cell_type": "markdown",
   "id": "a09e3d65",
   "metadata": {},
   "source": [
    "**Q38** \n",
    "\n",
    "Enter the code to open a new file called ‘presidents.pkl’ creating the file object f at the same time. [2.5 marks]"
   ]
  },
  {
   "cell_type": "code",
   "execution_count": 101,
   "id": "db0dc854",
   "metadata": {
    "ExecuteTime": {
     "end_time": "2022-11-06T13:22:39.791866Z",
     "start_time": "2022-11-06T13:22:39.771867Z"
    }
   },
   "outputs": [
    {
     "data": {
      "text/plain": [
       "[{'Name': 'Donald Trump', 'Year': 2017},\n",
       " {'Name': 'Barack Obama', 'Year': 2009},\n",
       " {'Name': 'George W. Bush', 'Year': 2001},\n",
       " {'Name': 'Bill Clinton', 'Year': 1993},\n",
       " {'Name': 'George Bush', 'Year': 1989}]"
      ]
     },
     "execution_count": 101,
     "metadata": {},
     "output_type": "execute_result"
    }
   ],
   "source": [
    "presidents1"
   ]
  },
  {
   "cell_type": "code",
   "execution_count": 124,
   "id": "fb25b431",
   "metadata": {
    "ExecuteTime": {
     "end_time": "2022-11-06T13:56:53.421851Z",
     "start_time": "2022-11-06T13:56:53.410856Z"
    }
   },
   "outputs": [],
   "source": [
    "f = open('C:\\\\Users\\\\Hp\\\\AWPy\\\\presidents.pkl', 'wb')"
   ]
  },
  {
   "cell_type": "markdown",
   "id": "02fdb40b",
   "metadata": {},
   "source": [
    "**Q39** \n",
    "\n",
    "Enter code to dump the variable presidents1 that you assigned in exercise 2.6 to the new file you just created. [3 marks]"
   ]
  },
  {
   "cell_type": "code",
   "execution_count": 125,
   "id": "14a04f69",
   "metadata": {
    "ExecuteTime": {
     "end_time": "2022-11-06T13:56:55.454757Z",
     "start_time": "2022-11-06T13:56:55.441245Z"
    }
   },
   "outputs": [],
   "source": [
    "import pickle\n",
    "pickle.dump(presidents1, f)"
   ]
  },
  {
   "cell_type": "markdown",
   "id": "b73653f4",
   "metadata": {},
   "source": [
    "**Q40** \n",
    "\n",
    "Enter code to close the file called ‘presidents.pkl’. [2 marks]"
   ]
  },
  {
   "cell_type": "code",
   "execution_count": 126,
   "id": "b32b4728",
   "metadata": {
    "ExecuteTime": {
     "end_time": "2022-11-06T13:56:58.836453Z",
     "start_time": "2022-11-06T13:56:58.822454Z"
    }
   },
   "outputs": [],
   "source": [
    "f.close()"
   ]
  },
  {
   "cell_type": "markdown",
   "id": "a8c53520",
   "metadata": {},
   "source": [
    "Q41 Enter the code to again open the file you just created called ‘presidents.pkl’ using the file object f1 this time. [2.5 marks]\n"
   ]
  },
  {
   "cell_type": "code",
   "execution_count": 130,
   "id": "f03c5d45",
   "metadata": {
    "ExecuteTime": {
     "end_time": "2022-11-06T13:59:57.497918Z",
     "start_time": "2022-11-06T13:59:57.485911Z"
    }
   },
   "outputs": [
    {
     "data": {
      "text/plain": [
       "[{'Name': 'Donald Trump', 'Year': 2017},\n",
       " {'Name': 'Barack Obama', 'Year': 2009},\n",
       " {'Name': 'George W. Bush', 'Year': 2001},\n",
       " {'Name': 'Bill Clinton', 'Year': 1993},\n",
       " {'Name': 'George Bush', 'Year': 1989}]"
      ]
     },
     "execution_count": 130,
     "metadata": {},
     "output_type": "execute_result"
    }
   ],
   "source": [
    "f1 = open('C:\\\\Users\\\\Hp\\\\AWPy\\\\presidents.pkl', 'rb')\n",
    "pickle.load(f1)"
   ]
  },
  {
   "cell_type": "markdown",
   "id": "0a30c296",
   "metadata": {},
   "source": [
    "Q42 Enter the code to load the variable presidents2 from the pickled data in the file pointed at by the file object f1. [3 marks]\n"
   ]
  },
  {
   "cell_type": "code",
   "execution_count": 131,
   "id": "d4e59260",
   "metadata": {
    "ExecuteTime": {
     "end_time": "2022-11-06T14:07:57.851180Z",
     "start_time": "2022-11-06T14:07:57.791988Z"
    }
   },
   "outputs": [],
   "source": [
    "f1 = open('C:\\\\Users\\\\Hp\\\\AWPy\\\\presidents.pkl', 'rb')\n",
    "presidents2 = pickle.load(f1)\n"
   ]
  },
  {
   "cell_type": "markdown",
   "id": "62259aee",
   "metadata": {},
   "source": [
    "**Q43**\n",
    "\n",
    "Enter the code to close the file you used for questions Q41 and Q42. [2 marks]\n",
    "(Check that the value of the variable presidents2 is the same as the variable presidents1 to verify that the unpickling has worked correctly)."
   ]
  },
  {
   "cell_type": "code",
   "execution_count": 134,
   "id": "d593d8a0",
   "metadata": {
    "ExecuteTime": {
     "end_time": "2022-11-06T14:08:40.307552Z",
     "start_time": "2022-11-06T14:08:40.299550Z"
    }
   },
   "outputs": [
    {
     "data": {
      "text/plain": [
       "[{'Name': 'Donald Trump', 'Year': 2017},\n",
       " {'Name': 'Barack Obama', 'Year': 2009},\n",
       " {'Name': 'George W. Bush', 'Year': 2001},\n",
       " {'Name': 'Bill Clinton', 'Year': 1993},\n",
       " {'Name': 'George Bush', 'Year': 1989}]"
      ]
     },
     "execution_count": 134,
     "metadata": {},
     "output_type": "execute_result"
    },
    {
     "data": {
      "text/plain": [
       "[{'Name': 'Donald Trump', 'Year': 2017},\n",
       " {'Name': 'Barack Obama', 'Year': 2009},\n",
       " {'Name': 'George W. Bush', 'Year': 2001},\n",
       " {'Name': 'Bill Clinton', 'Year': 1993},\n",
       " {'Name': 'George Bush', 'Year': 1989}]"
      ]
     },
     "execution_count": 134,
     "metadata": {},
     "output_type": "execute_result"
    }
   ],
   "source": [
    "presidents1\n",
    "presidents2"
   ]
  },
  {
   "cell_type": "code",
   "execution_count": 135,
   "id": "cdf4761e",
   "metadata": {
    "ExecuteTime": {
     "end_time": "2022-11-06T14:09:52.118134Z",
     "start_time": "2022-11-06T14:09:52.109055Z"
    }
   },
   "outputs": [],
   "source": [
    "f1.close()"
   ]
  },
  {
   "cell_type": "markdown",
   "id": "8cc299d1",
   "metadata": {},
   "source": [
    "In this exercise, you will modify the above function code to return the product of the items on the list rather than the sum.\n",
    "There are three lines of code in the above program:\n",
    "\n",
    "\n",
    "`>>>from functools import reduce\n",
    "Line 1: >>> def sum(seq):\n",
    "Line 2: ...     def add(x,y): return x+y\n",
    "Line 3: ...     return reduce(add, seq)`\n",
    "\n",
    "\n",
    "For your modified function, you will need to use the exact same number of lines of code.\n",
    "\n",
    "[Note: In the answers you submit below, do not include any indentation in your code. Use appropriate function names and similar spacing as above.]\n",
    "\n"
   ]
  },
  {
   "cell_type": "markdown",
   "id": "df0cdb83",
   "metadata": {},
   "source": [
    "**Q9** \n",
    "\n",
    "Enter the code in your new program for Line 1. [3 marks]"
   ]
  },
  {
   "cell_type": "code",
   "execution_count": 144,
   "id": "b7e36017",
   "metadata": {
    "ExecuteTime": {
     "end_time": "2022-11-06T14:28:04.000821Z",
     "start_time": "2022-11-06T14:28:03.986738Z"
    }
   },
   "outputs": [],
   "source": [
    "# Don't include the below code. This is used to import the required module\n",
    "from functools import reduce"
   ]
  },
  {
   "cell_type": "code",
   "execution_count": 146,
   "id": "f14914c9",
   "metadata": {
    "ExecuteTime": {
     "end_time": "2022-11-06T14:59:31.276291Z",
     "start_time": "2022-11-06T14:59:31.268207Z"
    }
   },
   "outputs": [],
   "source": [
    "def prod(seq):"
   ]
  },
  {
   "cell_type": "markdown",
   "id": "908a0ea4",
   "metadata": {},
   "source": [
    "**Q10** \n",
    "\n",
    "Enter the code in your new program for Line 2. [3 marks]"
   ]
  },
  {
   "cell_type": "code",
   "execution_count": 140,
   "id": "e3f48f0f",
   "metadata": {
    "ExecuteTime": {
     "end_time": "2022-11-06T14:22:52.737315Z",
     "start_time": "2022-11-06T14:22:52.727401Z"
    }
   },
   "outputs": [],
   "source": [
    "def product(x,y): return x*y"
   ]
  },
  {
   "cell_type": "markdown",
   "id": "73fd0d42",
   "metadata": {},
   "source": [
    "Q11 Enter the code in your new program for Line 3. [3 marks]\n",
    "\n"
   ]
  },
  {
   "cell_type": "code",
   "execution_count": 145,
   "id": "725ebf3b",
   "metadata": {
    "ExecuteTime": {
     "end_time": "2022-11-06T14:59:14.292920Z",
     "start_time": "2022-11-06T14:59:14.273140Z"
    }
   },
   "outputs": [],
   "source": [
    "return reduce(product, seq)"
   ]
  },
  {
   "cell_type": "markdown",
   "id": "5c6da796",
   "metadata": {},
   "source": [
    "**Q12** \n",
    "\n",
    "Enter the code you would type to run your new function to return the product of the numbers 10, 11, 12, ... up to and including 20. [3 marks]"
   ]
  },
  {
   "cell_type": "code",
   "execution_count": null,
   "id": "957ab029",
   "metadata": {},
   "outputs": [],
   "source": [
    "prod(range(10,21))"
   ]
  },
  {
   "cell_type": "markdown",
   "id": "5b4428b4",
   "metadata": {},
   "source": [
    "Q13 Enter the output produced when you run the code you devised for Q2. [2 marks]"
   ]
  },
  {
   "cell_type": "code",
   "execution_count": null,
   "id": "b7df1626",
   "metadata": {},
   "outputs": [],
   "source": [
    "6704425728000"
   ]
  }
 ],
 "metadata": {
  "kernelspec": {
   "display_name": "Python 3 (ipykernel)",
   "language": "python",
   "name": "python3"
  },
  "language_info": {
   "codemirror_mode": {
    "name": "ipython",
    "version": 3
   },
   "file_extension": ".py",
   "mimetype": "text/x-python",
   "name": "python",
   "nbconvert_exporter": "python",
   "pygments_lexer": "ipython3",
   "version": "3.9.12"
  },
  "toc": {
   "base_numbering": 1,
   "nav_menu": {},
   "number_sections": true,
   "sideBar": true,
   "skip_h1_title": false,
   "title_cell": "Table of Contents",
   "title_sidebar": "Contents",
   "toc_cell": false,
   "toc_position": {},
   "toc_section_display": true,
   "toc_window_display": true
  },
  "varInspector": {
   "cols": {
    "lenName": 16,
    "lenType": 16,
    "lenVar": 40
   },
   "kernels_config": {
    "python": {
     "delete_cmd_postfix": "",
     "delete_cmd_prefix": "del ",
     "library": "var_list.py",
     "varRefreshCmd": "print(var_dic_list())"
    },
    "r": {
     "delete_cmd_postfix": ") ",
     "delete_cmd_prefix": "rm(",
     "library": "var_list.r",
     "varRefreshCmd": "cat(var_dic_list()) "
    }
   },
   "types_to_exclude": [
    "module",
    "function",
    "builtin_function_or_method",
    "instance",
    "_Feature"
   ],
   "window_display": false
  }
 },
 "nbformat": 4,
 "nbformat_minor": 5
}
